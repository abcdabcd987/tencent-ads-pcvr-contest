{
 "cells": [
  {
   "cell_type": "code",
   "execution_count": 1,
   "metadata": {
    "collapsed": true
   },
   "outputs": [],
   "source": [
    "import sys\n",
    "sys.path.append('/home/kevin/Share/APEXDatasets')\n",
    "from apexdsets import CTRLoader"
   ]
  },
  {
   "cell_type": "code",
   "execution_count": 76,
   "metadata": {},
   "outputs": [
    {
     "data": {
      "text/plain": [
       "341919"
      ]
     },
     "execution_count": 76,
     "metadata": {},
     "output_type": "execute_result"
    }
   ],
   "source": [
    "loader = CTRLoader('/home/kevin/Dataset/Ads/APEXDatasets/ipinyou')\n",
    "loader.unified_size"
   ]
  },
  {
   "cell_type": "code",
   "execution_count": 80,
   "metadata": {},
   "outputs": [
    {
     "name": "stdout",
     "output_type": "stream",
     "text": [
      "weekday\t8\n",
      "hour\t25\n",
      "IP\t704965\n",
      "region\t36\n",
      "city\t371\n",
      "adexchange\t6\n",
      "domain\t51321\n",
      "slotid\t180695\n",
      "slotwidth\t22\n",
      "slotheight\t15\n",
      "slotvisibility\t12\n",
      "slotformat\t5\n",
      "creative\t132\n",
      "advertiser\t10\n",
      "useragent\t41\n",
      "slotprice\t6\n"
     ]
    }
   ],
   "source": [
    "feat_names = ['weekday', 'hour', 'IP', 'region', 'city', 'adexchange', 'domain',\n",
    "                  'slotid', 'slotwidth', 'slotheight', 'slotvisibility', 'slotformat',\n",
    "                  'creative', 'advertiser', 'useragent', 'slotprice']\n",
    "feat_min = [0, 8, 33, 704998, 705034, 705405, 705411, 756732, 937427, 937449, 937464, 937476, 937481, 937613,\n",
    "                937623, 937664]\n",
    "feat_max = [7, 32, 704997, 705033, 705404, 705410, 756731, 937426, 937448, 937463, 937475, 937480, 937612, 937622,\n",
    "                937663, 937669]\n",
    "feat_sizes = [feat_max[i] - feat_min[i] + 1 for i in range(16)]\n",
    "\n",
    "for i in range(16):\n",
    "    print feat_names[i] + '\\t' + str(feat_sizes[i])"
   ]
  },
  {
   "cell_type": "code",
   "execution_count": 81,
   "metadata": {},
   "outputs": [
    {
     "name": "stdout",
     "output_type": "stream",
     "text": [
      "0\tclick\n",
      "1\tweekday\n",
      "2\thour\n",
      "3\tbidid\n",
      "4\ttimestamp\n",
      "5\tlogtype\n",
      "6\tipinyouid\n",
      "7\tuseragent\n",
      "8\tIP\n",
      "9\tregion\n",
      "10\tcity\n",
      "11\tadexchange\n",
      "12\tdomain\n",
      "13\turl\n",
      "14\turlid\n",
      "15\tslotid\n",
      "16\tslotwidth\n",
      "17\tslotheight\n",
      "18\tslotvisibility\n",
      "19\tslotformat\n",
      "20\tslotprice\n",
      "21\tcreative\n",
      "22\tbidprice\n",
      "23\tpayprice\n",
      "24\tkeypage\n",
      "25\tadvertiser\n",
      "26\tusertag\n"
     ]
    }
   ],
   "source": [
    "fin = open('/home/kevin/Documents/make-ipinyou-data/all/train.log.txt')\n",
    "fields = fin.readline().strip().split('\\t')\n",
    "for i, f in enumerate(fields):\n",
    "    print str(i) + '\\t' + f"
   ]
  },
  {
   "cell_type": "code",
   "execution_count": 82,
   "metadata": {},
   "outputs": [
    {
     "name": "stdout",
     "output_type": "stream",
     "text": [
      "1000000 327666\n",
      "2000000 447042\n",
      "3000000 485259\n",
      "4000000 520237\n",
      "5000000 537965\n",
      "6000000 558541\n",
      "7000000 573732\n",
      "8000000 585463\n",
      "9000000 599832\n",
      "10000000 610317\n",
      "11000000 622725\n",
      "12000000 629604\n",
      "13000000 648260\n",
      "14000000 672713\n",
      "15000000 694360\n"
     ]
    }
   ],
   "source": [
    "cnt = 0\n",
    "IPs = {}\n",
    "for line in fin:\n",
    "    line = line.strip().split('\\t')\n",
    "    ip = line[8]\n",
    "    if ip in IPs:\n",
    "        IPs[ip] += 1\n",
    "    else:\n",
    "        IPs[ip] = 1\n",
    "    cnt += 1\n",
    "    if cnt % 1000000 == 0:\n",
    "        print cnt, len(IPs)"
   ]
  },
  {
   "cell_type": "code",
   "execution_count": 83,
   "metadata": {},
   "outputs": [
    {
     "name": "stdout",
     "output_type": "stream",
     "text": [
      "704964\n"
     ]
    }
   ],
   "source": [
    "print len(IPs)"
   ]
  },
  {
   "cell_type": "code",
   "execution_count": 89,
   "metadata": {},
   "outputs": [
    {
     "data": {
      "image/png": "[encoded data removed]",
      "text/plain": [
       "<matplotlib.figure.Figure at 0x7fc158a9a790>"
      ]
     },
     "metadata": {},
     "output_type": "display_data"
    }
   ],
   "source": [
    "import matplotlib.pyplot as plt\n",
    "IP_cnt = np.array(IPs.values())\n",
    "index = np.where(IP_cnt > -1)[0]\n",
    "plt.hist(IP_cnt[index], bins=100)\n",
    "plt.show()"
   ]
  },
  {
   "cell_type": "code",
   "execution_count": 118,
   "metadata": {},
   "outputs": [
    {
     "name": "stdout",
     "output_type": "stream",
     "text": [
      "ratio 0.93638703554\n",
      "dim 0.568841813199\n",
      "704965 -> 401013\n"
     ]
    }
   ],
   "source": [
    "pos_index = np.where(IP_cnt > 10)[0]\n",
    "print 'ratio', np.sum(IP_cnt[pos_index]) * 1.0 / np.sum(IP_cnt)\n",
    "print 'dim', len(pos_index) * 1.0 / len(IP_cnt)\n",
    "print 704965, '->', len(pos_index)"
   ]
  },
  {
   "cell_type": "code",
   "execution_count": 110,
   "metadata": {},
   "outputs": [
    {
     "name": "stdout",
     "output_type": "stream",
     "text": [
      "1000000 28271\n",
      "2000000 42474\n",
      "3000000 54903\n",
      "4000000 66518\n",
      "5000000 78217\n",
      "6000000 88658\n",
      "7000000 98772\n",
      "8000000 107495\n",
      "9000000 114057\n",
      "10000000 122575\n",
      "11000000 130663\n",
      "12000000 138489\n",
      "13000000 155388\n",
      "14000000 167218\n",
      "15000000 177087\n",
      "180694\n"
     ]
    }
   ],
   "source": [
    "fin = open('/home/kevin/Documents/make-ipinyou-data/all/train.log.txt')    \n",
    "cnt = 0\n",
    "slotids = {}\n",
    "fin.readline()\n",
    "for line in fin:\n",
    "    line = line.strip().split('\\t')\n",
    "    sid = line[15]\n",
    "    if sid in slotids:\n",
    "        slotids[sid] += 1\n",
    "    else:\n",
    "        slotids[sid] = 1\n",
    "    cnt += 1\n",
    "    if cnt % 1000000 == 0:\n",
    "        print cnt, len(slotids)\n",
    "print len(slotids)"
   ]
  },
  {
   "cell_type": "code",
   "execution_count": 116,
   "metadata": {
    "scrolled": true
   },
   "outputs": [
    {
     "data": {
      "image/png": "[encoded data removed]",
      "text/plain": [
       "<matplotlib.figure.Figure at 0x7fc14d297190>"
      ]
     },
     "metadata": {},
     "output_type": "display_data"
    }
   ],
   "source": [
    "slotids_cnt = np.array(slotids.values())\n",
    "index = np.where(slotids_cnt > -1)[0]\n",
    "plt.hist(slotids_cnt[index], bins=100)\n",
    "plt.show()"
   ]
  },
  {
   "cell_type": "code",
   "execution_count": 117,
   "metadata": {
    "scrolled": true
   },
   "outputs": [
    {
     "name": "stdout",
     "output_type": "stream",
     "text": [
      "ratio 0.98366146251\n",
      "dim 0.0991123114215\n",
      "180695 -> 17909\n"
     ]
    }
   ],
   "source": [
    "pos_index = np.where(slotids_cnt > 10)[0]\n",
    "print 'ratio', np.sum(slotids_cnt[pos_index]) * 1.0 / np.sum(slotids_cnt)\n",
    "print 'dim', len(pos_index) * 1.0 / len(slotids_cnt)\n",
    "print 180695, '->', len(pos_index)"
   ]
  },
  {
   "cell_type": "code",
   "execution_count": 18,
   "metadata": {},
   "outputs": [
    {
     "name": "stdout",
     "output_type": "stream",
     "text": [
      "1178909\n",
      "0\tnum\tNone\n",
      "1\tcate\t4389\n",
      "2\tcate\t8000\n",
      "3\tcate\t329\n",
      "4\tcate\t7432\n",
      "5\tcate\t2646\n",
      "6\tcate\t428\n",
      "7\tcate\t233\n",
      "8\tcate\t6301\n",
      "9\tcate\t295\n",
      "10\tcate\t11\n",
      "11\tcate\t173\n",
      "12\tcate\t176642\n",
      "13\tcate\t585\n",
      "14\tcate\t147117\n",
      "15\tcate\t19845\n",
      "16\tcate\t14830\n",
      "17\tcate\t6916\n",
      "18\tcate\t18687\n",
      "19\tcate\t4\n",
      "20\tcate\t6646\n",
      "21\tcate\t1272\n",
      "22\tcate\t46\n",
      "23\tcate\t141085\n",
      "24\tcate\t64381\n",
      "25\tcate\t63692\n",
      "26\tcate\t11\n",
      "27\tcate\t2156\n",
      "28\tcate\t7806\n",
      "29\tcate\t61\n",
      "30\tcate\t5\n",
      "31\tcate\t928\n",
      "32\tcate\t15\n",
      "33\tcate\t147387\n",
      "34\tcate\t116331\n",
      "35\tcate\t145634\n",
      "36\tcate\t57186\n",
      "37\tcate\t9307\n",
      "38\tcate\t63\n",
      "39\tcate\t34\n",
      "[None, 4389, 8000, 329, 7432, 2646, 428, 233, 6301, 295, 11, 173, 176642, 585, 147117, 19845, 14830, 6916, 18687, 4, 6646, 1272, 46, 141085, 64381, 63692, 11, 2156, 7806, 61, 5, 928, 15, 147387, 116331, 145634, 57186, 9307, 63, 34]\n"
     ]
    }
   ],
   "source": [
    "loader = CTRLoader('/home/kevin/Dataset/Ads/APEXDatasets/criteo')\n",
    "print loader.unified_size\n",
    "# names = loader.meta('names')\n",
    "sizes = loader.meta('sizes')\n",
    "dtypes = loader.meta('dtypes')\n",
    "for i in range(len(sizes)):\n",
    "    print str(i) + '\\t' + dtypes[i] + '\\t' + str(sizes[i])\n",
    "print sizes"
   ]
  },
  {
   "cell_type": "code",
   "execution_count": 3,
   "metadata": {},
   "outputs": [
    {
     "name": "stdout",
     "output_type": "stream",
     "text": [
      "[[  18  461    7 ...,   17    1    4]\n",
      " [  18   92    3 ..., 1024    1    3]\n",
      " [   0    4    0 ...,  779    7    1]\n",
      " ..., \n",
      " [  10    2    8 ...,  101    1    2]\n",
      " [  32 2543    7 ...,  183    1    2]\n",
      " [   1    0    1 ...,   86    1    1]]\n",
      "[      0    4389   12389   12718   20150   22796   23224   23457   29758\n",
      "   30053   30064   30237  206879  207464  354581  374426  389256  396172\n",
      "  414859  414863  421509  422781  422827  563912  628293  691985  691996\n",
      "  694152  701958  702019  702024  702952  702967  850354  966685 1112319\n",
      " 1169505 1178812 1178875]\n"
     ]
    }
   ],
   "source": [
    "train_gen = loader.data_generator('train', 1000, unified_index=False)\n",
    "print(next(train_gen)[0])\n",
    "print loader._offset_"
   ]
  },
  {
   "cell_type": "code",
   "execution_count": 13,
   "metadata": {
    "scrolled": true
   },
   "outputs": [
    {
     "name": "stdout",
     "output_type": "stream",
     "text": [
      "[u'test', u'train']\n",
      "(86883012, 40)\n",
      "(12733031, 40)\n",
      " Create a new HDF5 dataset\n",
      "\n",
      "        name\n",
      "            Name of the dataset (absolute or relative).  Provide None to make\n",
      "            an anonymous dataset.\n",
      "        shape\n",
      "            Dataset shape.  Use \"()\" for scalar datasets.  Required if \"data\"\n",
      "            isn't provided.\n",
      "        dtype\n",
      "            Numpy dtype or string.  If omitted, dtype('f') will be used.\n",
      "            Required if \"data\" isn't provided; otherwise, overrides data\n",
      "            array's dtype.\n",
      "        data\n",
      "            Provide data to initialize the dataset.  If used, you can omit\n",
      "            shape and dtype arguments.\n",
      "\n",
      "        Keyword-only arguments:\n",
      "\n",
      "        chunks\n",
      "            (Tuple) Chunk shape, or True to enable auto-chunking.\n",
      "        maxshape\n",
      "            (Tuple) Make the dataset resizable up to this shape.  Use None for\n",
      "            axes you want to be unlimited.\n",
      "        compression\n",
      "            (String or int) Compression strategy.  Legal values are 'gzip',\n",
      "            'szip', 'lzf'.  If an integer in range(10), this indicates gzip\n",
      "            compression level. Otherwise, an integer indicates the number of a\n",
      "            dynamically loaded compression filter.\n",
      "        compression_opts\n",
      "            Compression settings.  This is an integer for gzip, 2-tuple for\n",
      "            szip, etc. If specifying a dynamically loaded compression filter\n",
      "            number, this must be a tuple of values.\n",
      "        scaleoffset\n",
      "            (Integer) Enable scale/offset filter for (usually) lossy\n",
      "            compression of integer or floating-point data. For integer\n",
      "            data, the value of scaleoffset is the number of bits to\n",
      "            retain (pass 0 to let HDF5 determine the minimum number of\n",
      "            bits necessary for lossless compression). For floating point\n",
      "            data, scaleoffset is the number of digits after the decimal\n",
      "            place to retain; stored values thus have absolute error\n",
      "            less than 0.5*10**(-scaleoffset).\n",
      "        shuffle\n",
      "            (T/F) Enable shuffle filter.\n",
      "        fletcher32\n",
      "            (T/F) Enable fletcher32 error detection. Not permitted in\n",
      "            conjunction with the scale/offset filter.\n",
      "        fillvalue\n",
      "            (Scalar) Use this value for uninitialized parts of the dataset.\n",
      "        track_times\n",
      "            (T/F) Enable dataset creation timestamps.\n",
      "        \n"
     ]
    }
   ],
   "source": [
    "print loader._f_.keys()\n",
    "print loader._f_['train'].shape\n",
    "print loader._f_['test'].shape\n",
    "import h5py\n",
    "print h5py.File.create_dataset.__doc__"
   ]
  },
  {
   "cell_type": "code",
   "execution_count": 17,
   "metadata": {},
   "outputs": [
    {
     "name": "stdout",
     "output_type": "stream",
     "text": [
      "43.441506\n",
      "6.3665155\n"
     ]
    }
   ],
   "source": [
    "print 86883012.0 / 2000000\n",
    "print 12733031.0 / 2000000"
   ]
  }
 ],
 "metadata": {
  "kernelspec": {
   "display_name": "Python 2",
   "language": "python",
   "name": "python2"
  },
  "language_info": {
   "codemirror_mode": {
    "name": "ipython",
    "version": 2.0
   },
   "file_extension": ".py",
   "mimetype": "text/x-python",
   "name": "python",
   "nbconvert_exporter": "python",
   "pygments_lexer": "ipython2",
   "version": "2.7.12"
  }
 },
 "nbformat": 4,
 "nbformat_minor": 0
}